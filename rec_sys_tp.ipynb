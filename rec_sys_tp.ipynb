{
 "cells": [
  {
   "cell_type": "markdown",
   "metadata": {
    "slideshow": {
     "slide_type": "slide"
    }
   },
   "source": [
    "# Práctico: Recomendación de Artistas\n",
    "\n",
    "En este práctico trabajaremos con el conjuto de datos de [LastFM](https://grouplens.org/datasets/hetrec-2011/) para el desarrollo de un sistema de recomendación que, dado el nombre de un artista musical, devuelve una lista de artistas \"similares\".\n",
    "\n",
    "Para el práctico utilizaremos el conjunto de datos de LastFM que consiguieron del [notebook de instalación](./instalacion.ipynb). Se recomienda leer el [Readme](http://files.grouplens.org/datasets/hetrec2011/hetrec2011-lastfm-readme.txt) de los datos para saber más sobre que información contiene cada archivo."
   ]
  },
  {
   "cell_type": "code",
   "execution_count": 1,
   "metadata": {},
   "outputs": [],
   "source": [
    "import pandas as pd\n",
    "import seaborn as sns\n",
    "import matplotlib.pyplot as plt\n",
    "\n",
    "from surprise import Reader\n",
    "from surprise import Dataset\n",
    "from surprise.model_selection import cross_validate\n",
    "from surprise import NormalPredictor\n",
    "from surprise import KNNBasic\n",
    "from surprise import KNNWithMeans\n",
    "from surprise import KNNWithZScore\n",
    "from surprise import KNNBaseline\n",
    "from surprise import SVD\n",
    "from surprise import BaselineOnly\n",
    "from surprise import SVDpp\n",
    "from surprise import NMF\n",
    "from surprise import SlopeOne\n",
    "from surprise import CoClustering\n",
    "from surprise.accuracy import rmse\n",
    "from surprise import accuracy\n",
    "from surprise.model_selection import train_test_split"
   ]
  },
  {
   "cell_type": "code",
   "execution_count": 2,
   "metadata": {},
   "outputs": [],
   "source": [
    "#This file contains information about music artists listened and tagged by the users.\n",
    "artist_data = pd.read_csv(\"../data/lastfm/artists.dat\", sep=\"\\t\")\n",
    "\n",
    "#This file contains the set of tags available in the dataset (ojo con el enconding en este!)\n",
    "user_tags = pd.read_csv(\"../data/lastfm/tags.dat\", sep=\"\\t\", encoding='latin-1')\n",
    "\n",
    "#This file contains the artists listened by each user.\n",
    "#It also provides a listening count for each [user, artist] pair.\n",
    "user_artists_plays = pd.read_csv(\"../data/lastfm/user_artists.dat\", sep=\"\\t\")\n",
    "\n",
    "#These files contain the tag assignments of artists provided by each particular user. \n",
    "#They also contain the timestamps when the tag assignments were done.\n",
    "user_tag_artists = pd.read_csv(\"../data/lastfm/user_taggedartists.dat\", sep=\"\\t\")\n",
    "user_tag_artists_time = pd.read_csv(\"../data/lastfm/user_taggedartists-timestamps.dat\", sep=\"\\t\")\n",
    "\n",
    "#These files contain the friend relations between users in the database.\n",
    "user_friends = pd.read_csv(\"../data/lastfm/user_friends.dat\", sep=\"\\t\")"
   ]
  },
  {
   "cell_type": "code",
   "execution_count": 3,
   "metadata": {},
   "outputs": [
    {
     "name": "stdout",
     "output_type": "stream",
     "text": [
      "<class 'pandas.core.frame.DataFrame'>\n",
      "RangeIndex: 11946 entries, 0 to 11945\n",
      "Data columns (total 2 columns):\n",
      " #   Column    Non-Null Count  Dtype \n",
      "---  ------    --------------  ----- \n",
      " 0   tagID     11946 non-null  int64 \n",
      " 1   tagValue  11946 non-null  object\n",
      "dtypes: int64(1), object(1)\n",
      "memory usage: 186.8+ KB\n"
     ]
    }
   ],
   "source": [
    "#artist_data.info()\n",
    "user_tags.info()\n",
    "#user_artist_plays.info()\n",
    "#user_tag_artists.info()\n",
    "#user_friends.info()"
   ]
  },
  {
   "cell_type": "markdown",
   "metadata": {},
   "source": [
    "## Ejercicio 1 - Análisis Exploratorio de Datos\n",
    "\n",
    "En esta primera parte deberán hacer un análisis exploratorio de los datos, aprovechando toda la información brindada por el conjunto. A partir de eso podrán tener mayor idea de qué tipo de datos estarán enfrentando (describe o hist).\n",
    "\n",
    "Algunas preguntas para responder:\n",
    "- ¿Cuáles son los artistas que fueron más escuchados?\n",
    "- ¿Cómo es la distribución de cantidad de listens por user?\n",
    "- ¿Es posible ver el género más escuchado?"
   ]
  },
  {
   "cell_type": "code",
   "execution_count": 4,
   "metadata": {},
   "outputs": [
    {
     "data": {
      "text/html": [
       "<div>\n",
       "<style scoped>\n",
       "    .dataframe tbody tr th:only-of-type {\n",
       "        vertical-align: middle;\n",
       "    }\n",
       "\n",
       "    .dataframe tbody tr th {\n",
       "        vertical-align: top;\n",
       "    }\n",
       "\n",
       "    .dataframe thead th {\n",
       "        text-align: right;\n",
       "    }\n",
       "</style>\n",
       "<table border=\"1\" class=\"dataframe\">\n",
       "  <thead>\n",
       "    <tr style=\"text-align: right;\">\n",
       "      <th></th>\n",
       "      <th>userID</th>\n",
       "      <th>artistID</th>\n",
       "      <th>weight</th>\n",
       "    </tr>\n",
       "  </thead>\n",
       "  <tbody>\n",
       "    <tr>\n",
       "      <th>1550</th>\n",
       "      <td>34</td>\n",
       "      <td>1</td>\n",
       "      <td>212</td>\n",
       "    </tr>\n",
       "    <tr>\n",
       "      <th>12611</th>\n",
       "      <td>274</td>\n",
       "      <td>1</td>\n",
       "      <td>483</td>\n",
       "    </tr>\n",
       "    <tr>\n",
       "      <th>35861</th>\n",
       "      <td>785</td>\n",
       "      <td>1</td>\n",
       "      <td>76</td>\n",
       "    </tr>\n",
       "  </tbody>\n",
       "</table>\n",
       "</div>"
      ],
      "text/plain": [
       "       userID  artistID  weight\n",
       "1550       34         1     212\n",
       "12611     274         1     483\n",
       "35861     785         1      76"
      ]
     },
     "execution_count": 4,
     "metadata": {},
     "output_type": "execute_result"
    }
   ],
   "source": [
    "user_artists_plays[user_artists_plays['artistID']==1]"
   ]
  },
  {
   "cell_type": "markdown",
   "metadata": {},
   "source": [
    "#### Artistas más escuchados"
   ]
  },
  {
   "cell_type": "markdown",
   "metadata": {},
   "source": [
    "Vamos a crear una variable nueva **user_count** que nos dice cuántos usuarios escucharon a cada artista.  \n",
    "La variable **weight** se le asigna a cada artista y es la sumatoria de todas las escuchas de un conjunto de usuarios\n",
    "para cada artista.  \n",
    "Luego crearemos dos variables más a partir de las dos anteriores: **count_range** **weight_range**. Estas variables agrupan \n",
    "en 4 grupos cada una a cada artista en función de **user_ count** y **weight**, y nos permiten visualizar cómo se distribuye los diversos valores en el conjunto de información \n"
   ]
  },
  {
   "cell_type": "code",
   "execution_count": 5,
   "metadata": {},
   "outputs": [
    {
     "data": {
      "text/html": [
       "<div>\n",
       "<style scoped>\n",
       "    .dataframe tbody tr th:only-of-type {\n",
       "        vertical-align: middle;\n",
       "    }\n",
       "\n",
       "    .dataframe tbody tr th {\n",
       "        vertical-align: top;\n",
       "    }\n",
       "\n",
       "    .dataframe thead th {\n",
       "        text-align: right;\n",
       "    }\n",
       "</style>\n",
       "<table border=\"1\" class=\"dataframe\">\n",
       "  <thead>\n",
       "    <tr style=\"text-align: right;\">\n",
       "      <th></th>\n",
       "      <th>artistID</th>\n",
       "      <th>weight</th>\n",
       "      <th>user_count</th>\n",
       "      <th>count_range</th>\n",
       "      <th>weight_range</th>\n",
       "    </tr>\n",
       "  </thead>\n",
       "  <tbody>\n",
       "    <tr>\n",
       "      <th>0</th>\n",
       "      <td>1</td>\n",
       "      <td>771</td>\n",
       "      <td>3</td>\n",
       "      <td>(0, 50]</td>\n",
       "      <td>(50, 1000]</td>\n",
       "    </tr>\n",
       "    <tr>\n",
       "      <th>1</th>\n",
       "      <td>2</td>\n",
       "      <td>8012</td>\n",
       "      <td>12</td>\n",
       "      <td>(0, 50]</td>\n",
       "      <td>(1000, 10000]</td>\n",
       "    </tr>\n",
       "    <tr>\n",
       "      <th>2</th>\n",
       "      <td>3</td>\n",
       "      <td>775</td>\n",
       "      <td>3</td>\n",
       "      <td>(0, 50]</td>\n",
       "      <td>(50, 1000]</td>\n",
       "    </tr>\n",
       "    <tr>\n",
       "      <th>3</th>\n",
       "      <td>4</td>\n",
       "      <td>563</td>\n",
       "      <td>2</td>\n",
       "      <td>(0, 50]</td>\n",
       "      <td>(50, 1000]</td>\n",
       "    </tr>\n",
       "    <tr>\n",
       "      <th>4</th>\n",
       "      <td>5</td>\n",
       "      <td>913</td>\n",
       "      <td>2</td>\n",
       "      <td>(0, 50]</td>\n",
       "      <td>(50, 1000]</td>\n",
       "    </tr>\n",
       "  </tbody>\n",
       "</table>\n",
       "</div>"
      ],
      "text/plain": [
       "   artistID  weight  user_count count_range   weight_range\n",
       "0         1     771           3     (0, 50]     (50, 1000]\n",
       "1         2    8012          12     (0, 50]  (1000, 10000]\n",
       "2         3     775           3     (0, 50]     (50, 1000]\n",
       "3         4     563           2     (0, 50]     (50, 1000]\n",
       "4         5     913           2     (0, 50]     (50, 1000]"
      ]
     },
     "execution_count": 5,
     "metadata": {},
     "output_type": "execute_result"
    }
   ],
   "source": [
    "escuchas_artistas = user_artists_plays['artistID'].value_counts()\n",
    "df_val_counts = pd.DataFrame(escuchas_artistas).sort_index().rename(columns={'artistID': 'value_counts'})\n",
    "user_artist_plays_sorted = user_artists_plays.groupby(['artistID']).sum()\n",
    "user_artist_plays_sorted['user_count'] = df_val_counts['value_counts']\n",
    "user_artist_plays_sorted.reset_index(inplace=True)\n",
    "#armamos un dataset con el feature nuevo user_count\n",
    "df_user_artist_plays = user_artist_plays_sorted.drop(['userID'], axis=1)\n",
    "#agregamos bins sobre el feature user_count\n",
    "df_user_artist_plays['count_range'] = pd.cut(df_user_artist_plays['user_count'], [0, 50, 100,200,700])\n",
    "df_user_artist_plays['weight_range'] = pd.cut(df_user_artist_plays['weight'], [0, 50, 1000,10000,3000000])\n",
    "df_user_artist_plays.head()\n"
   ]
  },
  {
   "cell_type": "code",
   "execution_count": 6,
   "metadata": {},
   "outputs": [
    {
     "data": {
      "text/plain": [
       "<AxesSubplot:xlabel='count', ylabel='weight_range'>"
      ]
     },
     "execution_count": 6,
     "metadata": {},
     "output_type": "execute_result"
    },
    {
     "data": {
      "image/png": "[encoded data removed]",
      "text/plain": [
       "<Figure size 504x216 with 1 Axes>"
      ]
     },
     "metadata": {
      "needs_background": "light"
     },
     "output_type": "display_data"
    }
   ],
   "source": [
    "f, ax = plt.subplots(figsize=(7, 3))\n",
    "sns.countplot(y='weight_range', data=df_user_artist_plays, color=\"c\")"
   ]
  },
  {
   "cell_type": "code",
   "execution_count": 7,
   "metadata": {},
   "outputs": [
    {
     "data": {
      "text/plain": [
       "<AxesSubplot:xlabel='count', ylabel='count_range'>"
      ]
     },
     "execution_count": 7,
     "metadata": {},
     "output_type": "execute_result"
    },
    {
     "data": {
      "image/png": "[encoded data removed]",
      "text/plain": [
       "<Figure size 504x216 with 1 Axes>"
      ]
     },
     "metadata": {
      "needs_background": "light"
     },
     "output_type": "display_data"
    }
   ],
   "source": [
    "f, ax = plt.subplots(figsize=(7, 3))\n",
    "sns.countplot(y='count_range', data=df_user_artist_plays, color=\"r\")"
   ]
  },
  {
   "cell_type": "markdown",
   "metadata": {},
   "source": [
    "Hay dos **datos interesantes** que obtenemos a partir de estos gráficos:  \n",
    "a. la mayor masa de peso (**weitght_range**) asociado a artistas se concentra entre los 50 y los 1000 puntos;  \n",
    "b. la mayor parte de los artistas (**count_range**) es escuchado por menos de 50 usuarios (de hecho, la mayoría solo es escuchado por 1 usuario);  "
   ]
  },
  {
   "cell_type": "markdown",
   "metadata": {},
   "source": [
    "A continuación analizamos los artistas más escuchados utilizando dos variables: **weight** y **user_count**"
   ]
  },
  {
   "cell_type": "code",
   "execution_count": 8,
   "metadata": {},
   "outputs": [
    {
     "data": {
      "text/plain": [
       "(array([0, 1, 2, 3, 4]),\n",
       " [Text(0, 0, 'Lady Gaga'),\n",
       "  Text(1, 0, 'Britney Spears'),\n",
       "  Text(2, 0, 'Rihanna'),\n",
       "  Text(3, 0, 'The Beatles'),\n",
       "  Text(4, 0, 'Katy Perry')])"
      ]
     },
     "execution_count": 8,
     "metadata": {},
     "output_type": "execute_result"
    },
    {
     "data": {
      "image/png": "[encoded data removed]",
      "text/plain": [
       "<Figure size 504x216 with 1 Axes>"
      ]
     },
     "metadata": {
      "needs_background": "light"
     },
     "output_type": "display_data"
    }
   ],
   "source": [
    "df_user_artist_plays['artist_name'] = artist_data['name']\n",
    "most_play_artist_user= df_user_artist_plays.sort_values(by=['user_count'], ascending=False)\n",
    "\n",
    "f, ax = plt.subplots(figsize=(7, 3))\n",
    "sns.barplot(x=\"artist_name\", y=\"user_count\", data=most_play_artist_user.iloc[0:5, :],\n",
    "            label=\"Total\", color=\"r\")\n",
    "plt.xticks(rotation=70)"
   ]
  },
  {
   "cell_type": "code",
   "execution_count": 9,
   "metadata": {},
   "outputs": [
    {
     "data": {
      "text/plain": [
       "(array([0, 1, 2, 3, 4]),\n",
       " [Text(0, 0, 'Britney Spears'),\n",
       "  Text(1, 0, 'Depeche Mode'),\n",
       "  Text(2, 0, 'Lady Gaga'),\n",
       "  Text(3, 0, 'Christina Aguilera'),\n",
       "  Text(4, 0, 'Paramore')])"
      ]
     },
     "execution_count": 9,
     "metadata": {},
     "output_type": "execute_result"
    },
    {
     "data": {
      "image/png": "[encoded data removed]",
      "text/plain": [
       "<Figure size 504x216 with 1 Axes>"
      ]
     },
     "metadata": {
      "needs_background": "light"
     },
     "output_type": "display_data"
    }
   ],
   "source": [
    "most_play_artist_weight= df_user_artist_plays.sort_values(by=['weight'], ascending=False)\n",
    "f, ax = plt.subplots(figsize=(7, 3))\n",
    "sns.set_color_codes('pastel')\n",
    "sns.barplot(x=\"artist_name\", y=\"weight\", data=most_play_artist_weight.iloc[0:5, :],\n",
    "            label=\"Total\", color=\"g\")\n",
    "plt.xticks(rotation=70)"
   ]
  },
  {
   "cell_type": "markdown",
   "metadata": {},
   "source": [
    "A partir de los últimos gráficos podemos decir que en este punto es determinante qué variable vamos a considerar para elegir a los artístas más escuchados, dado que, como vemos, aquellos que tienen mayor cantidad de usuarios no coinciden con aquellos que poseen más peso en las escuchas de usuarios en la global."
   ]
  },
  {
   "cell_type": "markdown",
   "metadata": {},
   "source": [
    "#### Distribución de cantidad de listens por usuarios"
   ]
  },
  {
   "cell_type": "markdown",
   "metadata": {},
   "source": [
    "Filtramos el dataset con la información de cada usuario y la cantidad de listens (nos quedamos con las variables **userID** y **weight**). Lo que queremos ver es la distribución de la cantidad total de listens por usuarios en el dataset."
   ]
  },
  {
   "cell_type": "code",
   "execution_count": 10,
   "metadata": {},
   "outputs": [
    {
     "data": {
      "text/html": [
       "<div>\n",
       "<style scoped>\n",
       "    .dataframe tbody tr th:only-of-type {\n",
       "        vertical-align: middle;\n",
       "    }\n",
       "\n",
       "    .dataframe tbody tr th {\n",
       "        vertical-align: top;\n",
       "    }\n",
       "\n",
       "    .dataframe thead th {\n",
       "        text-align: right;\n",
       "    }\n",
       "</style>\n",
       "<table border=\"1\" class=\"dataframe\">\n",
       "  <thead>\n",
       "    <tr style=\"text-align: right;\">\n",
       "      <th></th>\n",
       "      <th>userID</th>\n",
       "      <th>weight</th>\n",
       "    </tr>\n",
       "  </thead>\n",
       "  <tbody>\n",
       "    <tr>\n",
       "      <th>705</th>\n",
       "      <td>757</td>\n",
       "      <td>480039</td>\n",
       "    </tr>\n",
       "    <tr>\n",
       "      <th>1802</th>\n",
       "      <td>2000</td>\n",
       "      <td>468409</td>\n",
       "    </tr>\n",
       "    <tr>\n",
       "      <th>1280</th>\n",
       "      <td>1418</td>\n",
       "      <td>416349</td>\n",
       "    </tr>\n",
       "    <tr>\n",
       "      <th>1482</th>\n",
       "      <td>1642</td>\n",
       "      <td>388251</td>\n",
       "    </tr>\n",
       "    <tr>\n",
       "      <th>1002</th>\n",
       "      <td>1094</td>\n",
       "      <td>379125</td>\n",
       "    </tr>\n",
       "  </tbody>\n",
       "</table>\n",
       "</div>"
      ],
      "text/plain": [
       "      userID  weight\n",
       "705      757  480039\n",
       "1802    2000  468409\n",
       "1280    1418  416349\n",
       "1482    1642  388251\n",
       "1002    1094  379125"
      ]
     },
     "execution_count": 10,
     "metadata": {},
     "output_type": "execute_result"
    }
   ],
   "source": [
    "df_listens_per_users = user_artists_plays.drop(['artistID'], axis=1)\n",
    "df_listens_per_users = df_listens_per_users.groupby(['userID']).sum().reset_index()\n",
    "df_listens_per_users.sort_values(by=['weight'], ascending=False).head()"
   ]
  },
  {
   "cell_type": "code",
   "execution_count": 11,
   "metadata": {},
   "outputs": [
    {
     "name": "stderr",
     "output_type": "stream",
     "text": [
      "/home/adrian/anaconda3/envs/rec-sys/lib/python3.7/site-packages/seaborn/distributions.py:2551: FutureWarning: `distplot` is a deprecated function and will be removed in a future version. Please adapt your code to use either `displot` (a figure-level function with similar flexibility) or `histplot` (an axes-level function for histograms).\n",
      "  warnings.warn(msg, FutureWarning)\n"
     ]
    },
    {
     "data": {
      "text/plain": [
       "<AxesSubplot:xlabel='weight'>"
      ]
     },
     "execution_count": 11,
     "metadata": {},
     "output_type": "execute_result"
    },
    {
     "data": {
      "image/png": "[encoded data removed]",
      "text/plain": [
       "<Figure size 432x288 with 1 Axes>"
      ]
     },
     "metadata": {
      "needs_background": "light"
     },
     "output_type": "display_data"
    }
   ],
   "source": [
    "bins_list = [0, 10000, 25000, 50000, 100000, 200000, 300000, 400000, 500000]\n",
    "sns.distplot(df_listens_per_users['weight'], bins=bins_list, kde=False)"
   ]
  },
  {
   "cell_type": "markdown",
   "metadata": {},
   "source": [
    "El gráfico muestra que claramente la mayor parte de la masa de instancias de listens se congrega en entre en el intervalo que va de 0 a 25000. Esto lo podemos analizar con los siguientes estadísticos."
   ]
  },
  {
   "cell_type": "code",
   "execution_count": 12,
   "metadata": {},
   "outputs": [
    {
     "data": {
      "text/plain": [
       "count      1892.000000\n",
       "mean      36566.582981\n",
       "std       48744.552394\n",
       "min           3.000000\n",
       "25%        9742.250000\n",
       "50%       21573.000000\n",
       "75%       42963.750000\n",
       "max      480039.000000\n",
       "Name: weight, dtype: float64"
      ]
     },
     "execution_count": 12,
     "metadata": {},
     "output_type": "execute_result"
    }
   ],
   "source": [
    "df_listens_per_users['weight'].describe()"
   ]
  },
  {
   "cell_type": "markdown",
   "metadata": {},
   "source": [
    "Si bien el 75% de las instancias se encuentran debajo de los 43000 listens, aun así el promedio se ubica en 36000. Esto se debe a la cantidad de listens que aglomeran el 25% de las intancias con los valores más altos, algo que no debemos ignorar. Si fueran outliers podríamos simplemente limpiarlos o procesarlos de alguna forma, pero cabe preguntarse si ese mismo tratamiento puede realizarse sin más en este dataset."
   ]
  },
  {
   "cell_type": "markdown",
   "metadata": {},
   "source": [
    "#### Géneros musicales más escuchados"
   ]
  },
  {
   "cell_type": "markdown",
   "metadata": {},
   "source": [
    "¿Podemos obtener de la información en los datasets los géneros más escuchados? Poseemos un conjunto de datos donde los usuarios han etiquetado los estilos asociados a cada artista (**user_tag_artists**). Asumimos que han escuchado a estos artistas.  \n",
    "La pregunta es ¿cómo usamos estas etiquetas? Hay dos posibilidades: o bien realizamos un conteo de aquellas etiquetas que aparecen más (esto sería asumir una relación lineal entre cantidad de tags igual a cantidad de escuchas) o podríamos hacer un esfuerzo en cruzar los tags más comúnes con los artistas más escuchados. La idea es que si encontramos cómo se distribuyen lso géneros en los artistas con mayor masa de escuchas, tenemos una buena idea de cuáles son los géneros más escuchados.  \n",
    "Asignamos a una nueva variable **df_tags** el dataset **user_tag_artists** con la variable agregada **tagValue** para saber cuál es el estilo en cuestión. Luego asignamos a la variable  **df_tags_counts** un dataset con el conteo de tags."
   ]
  },
  {
   "cell_type": "code",
   "execution_count": 13,
   "metadata": {
    "scrolled": true
   },
   "outputs": [
    {
     "data": {
      "text/html": [
       "<div>\n",
       "<style scoped>\n",
       "    .dataframe tbody tr th:only-of-type {\n",
       "        vertical-align: middle;\n",
       "    }\n",
       "\n",
       "    .dataframe tbody tr th {\n",
       "        vertical-align: top;\n",
       "    }\n",
       "\n",
       "    .dataframe thead th {\n",
       "        text-align: right;\n",
       "    }\n",
       "</style>\n",
       "<table border=\"1\" class=\"dataframe\">\n",
       "  <thead>\n",
       "    <tr style=\"text-align: right;\">\n",
       "      <th></th>\n",
       "      <th>userID</th>\n",
       "      <th>artistID</th>\n",
       "      <th>tagID</th>\n",
       "      <th>day</th>\n",
       "      <th>month</th>\n",
       "      <th>year</th>\n",
       "      <th>tagValue</th>\n",
       "    </tr>\n",
       "  </thead>\n",
       "  <tbody>\n",
       "    <tr>\n",
       "      <th>0</th>\n",
       "      <td>2</td>\n",
       "      <td>52</td>\n",
       "      <td>13</td>\n",
       "      <td>1</td>\n",
       "      <td>4</td>\n",
       "      <td>2009</td>\n",
       "      <td>chillout</td>\n",
       "    </tr>\n",
       "    <tr>\n",
       "      <th>1</th>\n",
       "      <td>2</td>\n",
       "      <td>52</td>\n",
       "      <td>15</td>\n",
       "      <td>1</td>\n",
       "      <td>4</td>\n",
       "      <td>2009</td>\n",
       "      <td>downtempo</td>\n",
       "    </tr>\n",
       "    <tr>\n",
       "      <th>2</th>\n",
       "      <td>2</td>\n",
       "      <td>52</td>\n",
       "      <td>18</td>\n",
       "      <td>1</td>\n",
       "      <td>4</td>\n",
       "      <td>2009</td>\n",
       "      <td>electronic</td>\n",
       "    </tr>\n",
       "    <tr>\n",
       "      <th>3</th>\n",
       "      <td>2</td>\n",
       "      <td>52</td>\n",
       "      <td>21</td>\n",
       "      <td>1</td>\n",
       "      <td>4</td>\n",
       "      <td>2009</td>\n",
       "      <td>trip-hop</td>\n",
       "    </tr>\n",
       "    <tr>\n",
       "      <th>4</th>\n",
       "      <td>2</td>\n",
       "      <td>52</td>\n",
       "      <td>41</td>\n",
       "      <td>1</td>\n",
       "      <td>4</td>\n",
       "      <td>2009</td>\n",
       "      <td>female vovalists</td>\n",
       "    </tr>\n",
       "  </tbody>\n",
       "</table>\n",
       "</div>"
      ],
      "text/plain": [
       "   userID  artistID  tagID  day  month  year          tagValue\n",
       "0       2        52     13    1      4  2009          chillout\n",
       "1       2        52     15    1      4  2009         downtempo\n",
       "2       2        52     18    1      4  2009        electronic\n",
       "3       2        52     21    1      4  2009          trip-hop\n",
       "4       2        52     41    1      4  2009  female vovalists"
      ]
     },
     "execution_count": 13,
     "metadata": {},
     "output_type": "execute_result"
    }
   ],
   "source": [
    "df_tags = pd.merge(user_tag_artists, user_tags, how='left', on=['tagID', 'tagID'])\n",
    "df_tags.head()"
   ]
  },
  {
   "cell_type": "code",
   "execution_count": 14,
   "metadata": {},
   "outputs": [
    {
     "data": {
      "text/html": [
       "<div>\n",
       "<style scoped>\n",
       "    .dataframe tbody tr th:only-of-type {\n",
       "        vertical-align: middle;\n",
       "    }\n",
       "\n",
       "    .dataframe tbody tr th {\n",
       "        vertical-align: top;\n",
       "    }\n",
       "\n",
       "    .dataframe thead th {\n",
       "        text-align: right;\n",
       "    }\n",
       "</style>\n",
       "<table border=\"1\" class=\"dataframe\">\n",
       "  <thead>\n",
       "    <tr style=\"text-align: right;\">\n",
       "      <th></th>\n",
       "      <th>tagID</th>\n",
       "      <th>tag_counts</th>\n",
       "      <th>tagValue</th>\n",
       "    </tr>\n",
       "  </thead>\n",
       "  <tbody>\n",
       "    <tr>\n",
       "      <th>71</th>\n",
       "      <td>73</td>\n",
       "      <td>7503</td>\n",
       "      <td>rock</td>\n",
       "    </tr>\n",
       "    <tr>\n",
       "      <th>23</th>\n",
       "      <td>24</td>\n",
       "      <td>5418</td>\n",
       "      <td>pop</td>\n",
       "    </tr>\n",
       "    <tr>\n",
       "      <th>77</th>\n",
       "      <td>79</td>\n",
       "      <td>5251</td>\n",
       "      <td>alternative</td>\n",
       "    </tr>\n",
       "    <tr>\n",
       "      <th>17</th>\n",
       "      <td>18</td>\n",
       "      <td>4672</td>\n",
       "      <td>electronic</td>\n",
       "    </tr>\n",
       "    <tr>\n",
       "      <th>79</th>\n",
       "      <td>81</td>\n",
       "      <td>4458</td>\n",
       "      <td>indie</td>\n",
       "    </tr>\n",
       "  </tbody>\n",
       "</table>\n",
       "</div>"
      ],
      "text/plain": [
       "    tagID  tag_counts     tagValue\n",
       "71     73        7503         rock\n",
       "23     24        5418          pop\n",
       "77     79        5251  alternative\n",
       "17     18        4672   electronic\n",
       "79     81        4458        indie"
      ]
     },
     "execution_count": 14,
     "metadata": {},
     "output_type": "execute_result"
    }
   ],
   "source": [
    "tag_counts = user_tag_artists['tagID'].value_counts()\n",
    "df_tags_counts = pd.DataFrame(tag_counts).sort_index().rename(columns={'tagID': 'tag_counts'})\n",
    "df_tags_counts = df_tags_counts.reset_index().rename(columns={'index': 'tagID'})\n",
    "df_tags_counts = pd.merge(df_tags_counts, user_tags,how='left', on=['tagID', 'tagID'] ).sort_values(by=['tag_counts'], ascending=False) \n",
    "df_tags_counts.head()"
   ]
  },
  {
   "cell_type": "code",
   "execution_count": 15,
   "metadata": {},
   "outputs": [
    {
     "data": {
      "text/plain": [
       "(array([0, 1, 2, 3, 4, 5, 6, 7, 8, 9]),\n",
       " [Text(0, 0, 'rock'),\n",
       "  Text(1, 0, 'pop'),\n",
       "  Text(2, 0, 'alternative'),\n",
       "  Text(3, 0, 'electronic'),\n",
       "  Text(4, 0, 'indie'),\n",
       "  Text(5, 0, 'female vocalists'),\n",
       "  Text(6, 0, '80s'),\n",
       "  Text(7, 0, 'dance'),\n",
       "  Text(8, 0, 'alternative rock'),\n",
       "  Text(9, 0, 'classic rock')])"
      ]
     },
     "execution_count": 15,
     "metadata": {},
     "output_type": "execute_result"
    },
    {
     "data": {
      "image/png": "[encoded data removed]",
      "text/plain": [
       "<Figure size 504x216 with 1 Axes>"
      ]
     },
     "metadata": {
      "needs_background": "light"
     },
     "output_type": "display_data"
    }
   ],
   "source": [
    "f, ax = plt.subplots(figsize=(7, 3))\n",
    "sns.set_color_codes('pastel')\n",
    "sns.barplot(x=\"tagValue\", y=\"tag_counts\", data=df_tags_counts.iloc[0:10, :],\n",
    "            label=\"Total\", color=\"m\")\n",
    "plt.xticks(rotation=70)"
   ]
  },
  {
   "cell_type": "markdown",
   "metadata": {},
   "source": [
    "En el gráfico podemos observar los 10 tags de géneros musicales más utilizados o \"marcados\" por usuarios.  \n",
    "¿Es esto realmente representativo de los géneros más escuchados?\n",
    "Podría ser el caso que un solo usuario hubiera tageado a una gran cantidad de artistas con un género de manera deliberada y malintencionada.  \n",
    "Supongamos que 100 usuarios se hubieran puesto en campaña de taggear a todo lo que se les cruzara como \"alternative\". Le tomaría etiquetar a 100 artistas distintos cada uno para generar una muestra de 10000 tags! Este sería un escenario en el que menos del 7% de los usuarios que tagearan a menos de 7% de los artistas lograrían sesgar nuestra percepción acerca del género más escuchado."
   ]
  },
  {
   "cell_type": "markdown",
   "metadata": {},
   "source": [
    "## Ejercicio 2 - Sistema de Recomendación"
   ]
  },
  {
   "cell_type": "markdown",
   "metadata": {},
   "source": [
    "### Ejercicio 2a - Filtrados Colaborativos\n",
    "\n",
    "Deberán realizar un sistema de filtrados colaborativos basado en [Surpr!se](http://surpriselib.com/), a partir de los datos que proporciona `LastFM`, en especial el archivo `user_artists.dat`. Tener en cuenta los siguientes pasos:\n",
    "\n",
    "1. **Desarrollo de la matriz de Usuario-Contenido:** A partir del conjunto de datos deberán generar una matriz de usuario-contenido. Tener en cuenta que los ratings son implícitos, puesto que se dan a partir de la cantidad de veces que un usuario escuchó a determinado artista.\n",
    "2. **Entrenamiento del algoritmo de recomendación**: Utilizando las herramientas brindadas por [Surpr!se](http://surpriselib.com/), entrenen varios modelos (al menos 3) de sistemas de recomendación basados en filtrado colaborativo a partir de su matriz de usuario-contenido. Recuerden tener en cuenta lo aprendido en la diplomatura a la hora de evaluar y validar el modelo. Si necesitan inspiración, les recomendamos revisar [este notebook con información de como entrenar un sistema de recomendación con Surpr!se](https://github.com/susanli2016/Machine-Learning-with-Python/blob/master/Building%20Recommender%20System%20with%20Surprise.ipynb).\n",
    "3. **Sistema de recomendación**: A partir del mejor modelo de recomendación que haya surgido del caso anterior, y utilizando los datos del archivo `artist.dat`, armar un sistema de recomendación sencillo que, dado un nombre de un artista, devuelva el top 10 de artistas más similares. La idea es que el sistema tome el nombre de un artista y devuelva el nombre de otros artistas (no simplemente tomar y devolver IDs). Se recomienda [revisar este notebook para inspiración (ver el paso número 5)](https://github.com/topspinj/pydata-workshop/blob/master/tutorial.ipynb)."
   ]
  },
  {
   "cell_type": "markdown",
   "metadata": {},
   "source": [
    "### 1. Desarrollo de la matriz de usuario-contenido"
   ]
  },
  {
   "cell_type": "code",
   "execution_count": 16,
   "metadata": {},
   "outputs": [
    {
     "data": {
      "text/html": [
       "<div>\n",
       "<style scoped>\n",
       "    .dataframe tbody tr th:only-of-type {\n",
       "        vertical-align: middle;\n",
       "    }\n",
       "\n",
       "    .dataframe tbody tr th {\n",
       "        vertical-align: top;\n",
       "    }\n",
       "\n",
       "    .dataframe thead th {\n",
       "        text-align: right;\n",
       "    }\n",
       "</style>\n",
       "<table border=\"1\" class=\"dataframe\">\n",
       "  <thead>\n",
       "    <tr style=\"text-align: right;\">\n",
       "      <th></th>\n",
       "      <th>userID</th>\n",
       "      <th>artistID</th>\n",
       "      <th>weight</th>\n",
       "    </tr>\n",
       "  </thead>\n",
       "  <tbody>\n",
       "    <tr>\n",
       "      <th>0</th>\n",
       "      <td>2</td>\n",
       "      <td>51</td>\n",
       "      <td>13883</td>\n",
       "    </tr>\n",
       "    <tr>\n",
       "      <th>1</th>\n",
       "      <td>2</td>\n",
       "      <td>52</td>\n",
       "      <td>11690</td>\n",
       "    </tr>\n",
       "    <tr>\n",
       "      <th>2</th>\n",
       "      <td>2</td>\n",
       "      <td>53</td>\n",
       "      <td>11351</td>\n",
       "    </tr>\n",
       "    <tr>\n",
       "      <th>3</th>\n",
       "      <td>2</td>\n",
       "      <td>54</td>\n",
       "      <td>10300</td>\n",
       "    </tr>\n",
       "    <tr>\n",
       "      <th>4</th>\n",
       "      <td>2</td>\n",
       "      <td>55</td>\n",
       "      <td>8983</td>\n",
       "    </tr>\n",
       "  </tbody>\n",
       "</table>\n",
       "</div>"
      ],
      "text/plain": [
       "   userID  artistID  weight\n",
       "0       2        51   13883\n",
       "1       2        52   11690\n",
       "2       2        53   11351\n",
       "3       2        54   10300\n",
       "4       2        55    8983"
      ]
     },
     "execution_count": 16,
     "metadata": {},
     "output_type": "execute_result"
    }
   ],
   "source": [
    "# We need a dataframe with userId, artistId and rating (given as listening quantity)\n",
    "# This file contains the artists listened by each user.\n",
    "# It also provides a listening count for each [user, artist] pair.\n",
    "userContentMatrix = pd.read_csv(\"../data/lastfm/user_artists.dat\", sep=\"\\t\")\n",
    "userContentMatrix.head()"
   ]
  },
  {
   "cell_type": "code",
   "execution_count": 17,
   "metadata": {},
   "outputs": [
    {
     "data": {
      "text/html": [
       "<div>\n",
       "<style scoped>\n",
       "    .dataframe tbody tr th:only-of-type {\n",
       "        vertical-align: middle;\n",
       "    }\n",
       "\n",
       "    .dataframe tbody tr th {\n",
       "        vertical-align: top;\n",
       "    }\n",
       "\n",
       "    .dataframe thead th {\n",
       "        text-align: right;\n",
       "    }\n",
       "</style>\n",
       "<table border=\"1\" class=\"dataframe\">\n",
       "  <thead>\n",
       "    <tr style=\"text-align: right;\">\n",
       "      <th></th>\n",
       "      <th>userID</th>\n",
       "      <th>artistID</th>\n",
       "      <th>weight</th>\n",
       "      <th>weight_user_norm</th>\n",
       "      <th>weight_global_norm</th>\n",
       "    </tr>\n",
       "  </thead>\n",
       "  <tbody>\n",
       "    <tr>\n",
       "      <th>0</th>\n",
       "      <td>2</td>\n",
       "      <td>51</td>\n",
       "      <td>13883</td>\n",
       "      <td>10.000000</td>\n",
       "      <td>0.393623</td>\n",
       "    </tr>\n",
       "    <tr>\n",
       "      <th>1</th>\n",
       "      <td>2</td>\n",
       "      <td>52</td>\n",
       "      <td>11690</td>\n",
       "      <td>8.420370</td>\n",
       "      <td>0.331445</td>\n",
       "    </tr>\n",
       "    <tr>\n",
       "      <th>2</th>\n",
       "      <td>2</td>\n",
       "      <td>53</td>\n",
       "      <td>11351</td>\n",
       "      <td>8.176187</td>\n",
       "      <td>0.321833</td>\n",
       "    </tr>\n",
       "    <tr>\n",
       "      <th>3</th>\n",
       "      <td>2</td>\n",
       "      <td>54</td>\n",
       "      <td>10300</td>\n",
       "      <td>7.419146</td>\n",
       "      <td>0.292035</td>\n",
       "    </tr>\n",
       "    <tr>\n",
       "      <th>4</th>\n",
       "      <td>2</td>\n",
       "      <td>55</td>\n",
       "      <td>8983</td>\n",
       "      <td>6.470503</td>\n",
       "      <td>0.254694</td>\n",
       "    </tr>\n",
       "  </tbody>\n",
       "</table>\n",
       "</div>"
      ],
      "text/plain": [
       "   userID  artistID  weight  weight_user_norm  weight_global_norm\n",
       "0       2        51   13883         10.000000            0.393623\n",
       "1       2        52   11690          8.420370            0.331445\n",
       "2       2        53   11351          8.176187            0.321833\n",
       "3       2        54   10300          7.419146            0.292035\n",
       "4       2        55    8983          6.470503            0.254694"
      ]
     },
     "execution_count": 17,
     "metadata": {},
     "output_type": "execute_result"
    }
   ],
   "source": [
    "# Normalice weigth in range from 0 to 10\n",
    "\n",
    "# We use max weight assigned by an user to an artist to divide current weigth\n",
    "maxUserWeightDict = dict(userContentMatrix.groupby('userID')['weight'].max())\n",
    "userContentMatrix[\"weight_user_norm\"] = userContentMatrix.apply(lambda x : x['weight'] / maxUserWeightDict.get(x['userID']) * 10, axis=1)\n",
    "\n",
    "# We use max global weight assigned to an artist to divide current weigth\n",
    "maxValue = userContentMatrix[\"weight\"].max()\n",
    "userContentMatrix[\"weight_global_norm\"] = userContentMatrix[\"weight\"].apply(lambda x : x / maxValue * 10)\n",
    "\n",
    "userContentMatrix.head()"
   ]
  },
  {
   "cell_type": "markdown",
   "metadata": {},
   "source": [
    "### 2. Entrenamiento del algoritmo de recomendación"
   ]
  },
  {
   "cell_type": "code",
   "execution_count": 18,
   "metadata": {},
   "outputs": [
    {
     "data": {
      "text/html": [
       "<div>\n",
       "<style scoped>\n",
       "    .dataframe tbody tr th:only-of-type {\n",
       "        vertical-align: middle;\n",
       "    }\n",
       "\n",
       "    .dataframe tbody tr th {\n",
       "        vertical-align: top;\n",
       "    }\n",
       "\n",
       "    .dataframe thead th {\n",
       "        text-align: right;\n",
       "    }\n",
       "</style>\n",
       "<table border=\"1\" class=\"dataframe\">\n",
       "  <thead>\n",
       "    <tr style=\"text-align: right;\">\n",
       "      <th></th>\n",
       "      <th>test_rmse</th>\n",
       "      <th>fit_time</th>\n",
       "      <th>test_time</th>\n",
       "    </tr>\n",
       "    <tr>\n",
       "      <th>Algorithm</th>\n",
       "      <th></th>\n",
       "      <th></th>\n",
       "      <th></th>\n",
       "    </tr>\n",
       "  </thead>\n",
       "  <tbody>\n",
       "    <tr>\n",
       "      <th>BaselineOnly</th>\n",
       "      <td>1.765797</td>\n",
       "      <td>0.058406</td>\n",
       "      <td>0.138180</td>\n",
       "    </tr>\n",
       "    <tr>\n",
       "      <th>SVD</th>\n",
       "      <td>1.765857</td>\n",
       "      <td>2.309158</td>\n",
       "      <td>0.193897</td>\n",
       "    </tr>\n",
       "    <tr>\n",
       "      <th>SVDpp</th>\n",
       "      <td>1.820544</td>\n",
       "      <td>26.757205</td>\n",
       "      <td>1.404047</td>\n",
       "    </tr>\n",
       "    <tr>\n",
       "      <th>KNNBaseline</th>\n",
       "      <td>1.857200</td>\n",
       "      <td>0.268610</td>\n",
       "      <td>2.323765</td>\n",
       "    </tr>\n",
       "    <tr>\n",
       "      <th>KNNWithMeans</th>\n",
       "      <td>1.890739</td>\n",
       "      <td>0.237429</td>\n",
       "      <td>1.874913</td>\n",
       "    </tr>\n",
       "    <tr>\n",
       "      <th>SlopeOne</th>\n",
       "      <td>1.891621</td>\n",
       "      <td>8.485018</td>\n",
       "      <td>0.743172</td>\n",
       "    </tr>\n",
       "    <tr>\n",
       "      <th>KNNWithZScore</th>\n",
       "      <td>1.923401</td>\n",
       "      <td>0.293528</td>\n",
       "      <td>2.012967</td>\n",
       "    </tr>\n",
       "    <tr>\n",
       "      <th>CoClustering</th>\n",
       "      <td>1.952083</td>\n",
       "      <td>1.451577</td>\n",
       "      <td>0.150773</td>\n",
       "    </tr>\n",
       "    <tr>\n",
       "      <th>KNNBasic</th>\n",
       "      <td>2.072285</td>\n",
       "      <td>0.208982</td>\n",
       "      <td>1.748762</td>\n",
       "    </tr>\n",
       "    <tr>\n",
       "      <th>NMF</th>\n",
       "      <td>2.134975</td>\n",
       "      <td>3.750255</td>\n",
       "      <td>0.176396</td>\n",
       "    </tr>\n",
       "    <tr>\n",
       "      <th>NormalPredictor</th>\n",
       "      <td>2.721806</td>\n",
       "      <td>0.050920</td>\n",
       "      <td>0.198957</td>\n",
       "    </tr>\n",
       "  </tbody>\n",
       "</table>\n",
       "</div>"
      ],
      "text/plain": [
       "                 test_rmse   fit_time  test_time\n",
       "Algorithm                                       \n",
       "BaselineOnly      1.765797   0.058406   0.138180\n",
       "SVD               1.765857   2.309158   0.193897\n",
       "SVDpp             1.820544  26.757205   1.404047\n",
       "KNNBaseline       1.857200   0.268610   2.323765\n",
       "KNNWithMeans      1.890739   0.237429   1.874913\n",
       "SlopeOne          1.891621   8.485018   0.743172\n",
       "KNNWithZScore     1.923401   0.293528   2.012967\n",
       "CoClustering      1.952083   1.451577   0.150773\n",
       "KNNBasic          2.072285   0.208982   1.748762\n",
       "NMF               2.134975   3.750255   0.176396\n",
       "NormalPredictor   2.721806   0.050920   0.198957"
      ]
     },
     "execution_count": 18,
     "metadata": {},
     "output_type": "execute_result"
    }
   ],
   "source": [
    "# To load a dataset from a pandas dataframe, we will use the load_from_df() method,\n",
    "# we will also need a Reader object, and the rating_scale parameter must be specified.\n",
    "\n",
    "# The dataframe must have three columns, corresponding to the user ids, the item ids,\n",
    "# and the ratings in this order. Each row thus corresponds to a given rating.\n",
    "\n",
    "df = userContentMatrix.drop(['weight','weight_global_norm'], axis=1)\n",
    "ratingColumn = df[\"weight_user_norm\"]\n",
    "ratingMinValue = ratingColumn.min()\n",
    "ratingMaxValue = ratingColumn.max()\n",
    "\n",
    "reader = Reader(rating_scale=(ratingMinValue, ratingMaxValue))    \n",
    "data = Dataset.load_from_df(df, reader)\n",
    "\n",
    "benchmark = []\n",
    "# Iterate over all algorithms\n",
    "for algorithm in [SVD(), SVDpp(), SlopeOne(), NMF(), NormalPredictor(), KNNBaseline(), KNNBasic(), KNNWithMeans(), KNNWithZScore(), BaselineOnly(), CoClustering()]:\n",
    "    # Perform cross validation\n",
    "    results = cross_validate(algorithm, data, measures=['RMSE'], cv=3, verbose=False, n_jobs=-1)\n",
    "    \n",
    "    # Get results & append algorithm name\n",
    "    tmp = pd.DataFrame.from_dict(results).mean(axis=0)\n",
    "    tmp = tmp.append(pd.Series([str(algorithm).split(' ')[0].split('.')[-1]], index=['Algorithm']))\n",
    "    benchmark.append(tmp)\n",
    "    \n",
    "pd.DataFrame(benchmark).set_index('Algorithm').sort_values('test_rmse')  "
   ]
  },
  {
   "cell_type": "code",
   "execution_count": 19,
   "metadata": {},
   "outputs": [
    {
     "data": {
      "text/html": [
       "<div>\n",
       "<style scoped>\n",
       "    .dataframe tbody tr th:only-of-type {\n",
       "        vertical-align: middle;\n",
       "    }\n",
       "\n",
       "    .dataframe tbody tr th {\n",
       "        vertical-align: top;\n",
       "    }\n",
       "\n",
       "    .dataframe thead th {\n",
       "        text-align: right;\n",
       "    }\n",
       "</style>\n",
       "<table border=\"1\" class=\"dataframe\">\n",
       "  <thead>\n",
       "    <tr style=\"text-align: right;\">\n",
       "      <th></th>\n",
       "      <th>test_rmse</th>\n",
       "      <th>fit_time</th>\n",
       "      <th>test_time</th>\n",
       "    </tr>\n",
       "    <tr>\n",
       "      <th>Algorithm</th>\n",
       "      <th></th>\n",
       "      <th></th>\n",
       "      <th></th>\n",
       "    </tr>\n",
       "  </thead>\n",
       "  <tbody>\n",
       "    <tr>\n",
       "      <th>BaselineOnly</th>\n",
       "      <td>0.102981</td>\n",
       "      <td>0.059238</td>\n",
       "      <td>0.141542</td>\n",
       "    </tr>\n",
       "    <tr>\n",
       "      <th>KNNBaseline</th>\n",
       "      <td>0.104943</td>\n",
       "      <td>0.316532</td>\n",
       "      <td>2.711120</td>\n",
       "    </tr>\n",
       "    <tr>\n",
       "      <th>SlopeOne</th>\n",
       "      <td>0.105097</td>\n",
       "      <td>6.898873</td>\n",
       "      <td>0.709233</td>\n",
       "    </tr>\n",
       "    <tr>\n",
       "      <th>KNNWithMeans</th>\n",
       "      <td>0.105606</td>\n",
       "      <td>0.234182</td>\n",
       "      <td>1.949320</td>\n",
       "    </tr>\n",
       "    <tr>\n",
       "      <th>KNNBasic</th>\n",
       "      <td>0.107253</td>\n",
       "      <td>0.223405</td>\n",
       "      <td>1.823165</td>\n",
       "    </tr>\n",
       "    <tr>\n",
       "      <th>NMF</th>\n",
       "      <td>0.107543</td>\n",
       "      <td>4.152851</td>\n",
       "      <td>0.165236</td>\n",
       "    </tr>\n",
       "    <tr>\n",
       "      <th>SVDpp</th>\n",
       "      <td>0.107851</td>\n",
       "      <td>25.920768</td>\n",
       "      <td>1.162310</td>\n",
       "    </tr>\n",
       "    <tr>\n",
       "      <th>KNNWithZScore</th>\n",
       "      <td>0.112349</td>\n",
       "      <td>0.313786</td>\n",
       "      <td>2.250310</td>\n",
       "    </tr>\n",
       "    <tr>\n",
       "      <th>CoClustering</th>\n",
       "      <td>0.114450</td>\n",
       "      <td>1.500111</td>\n",
       "      <td>0.177763</td>\n",
       "    </tr>\n",
       "    <tr>\n",
       "      <th>SVD</th>\n",
       "      <td>0.118158</td>\n",
       "      <td>2.648833</td>\n",
       "      <td>0.209800</td>\n",
       "    </tr>\n",
       "    <tr>\n",
       "      <th>NormalPredictor</th>\n",
       "      <td>0.130577</td>\n",
       "      <td>0.056763</td>\n",
       "      <td>0.189308</td>\n",
       "    </tr>\n",
       "  </tbody>\n",
       "</table>\n",
       "</div>"
      ],
      "text/plain": [
       "                 test_rmse   fit_time  test_time\n",
       "Algorithm                                       \n",
       "BaselineOnly      0.102981   0.059238   0.141542\n",
       "KNNBaseline       0.104943   0.316532   2.711120\n",
       "SlopeOne          0.105097   6.898873   0.709233\n",
       "KNNWithMeans      0.105606   0.234182   1.949320\n",
       "KNNBasic          0.107253   0.223405   1.823165\n",
       "NMF               0.107543   4.152851   0.165236\n",
       "SVDpp             0.107851  25.920768   1.162310\n",
       "KNNWithZScore     0.112349   0.313786   2.250310\n",
       "CoClustering      0.114450   1.500111   0.177763\n",
       "SVD               0.118158   2.648833   0.209800\n",
       "NormalPredictor   0.130577   0.056763   0.189308"
      ]
     },
     "execution_count": 19,
     "metadata": {},
     "output_type": "execute_result"
    }
   ],
   "source": [
    "# To load a dataset from a pandas dataframe, we will use the load_from_df() method,\n",
    "# we will also need a Reader object, and the rating_scale parameter must be specified.\n",
    "\n",
    "# The dataframe must have three columns, corresponding to the user ids, the item ids,\n",
    "# and the ratings in this order. Each row thus corresponds to a given rating.\n",
    "\n",
    "df = userContentMatrix.drop(['weight','weight_user_norm'], axis=1)\n",
    "ratingColumn = df[\"weight_global_norm\"]\n",
    "ratingMinValue = ratingColumn.min()\n",
    "ratingMaxValue = ratingColumn.max()\n",
    "\n",
    "reader = Reader(rating_scale=(ratingMinValue, ratingMaxValue))    \n",
    "data = Dataset.load_from_df(df, reader)\n",
    "\n",
    "benchmark = []\n",
    "# Iterate over all algorithms\n",
    "for algorithm in [SVD(), SVDpp(), SlopeOne(), NMF(), NormalPredictor(), KNNBaseline(), KNNBasic(), KNNWithMeans(), KNNWithZScore(), BaselineOnly(), CoClustering()]:\n",
    "    # Perform cross validation\n",
    "    results = cross_validate(algorithm, data, measures=['RMSE'], cv=3, verbose=False, n_jobs=-1)\n",
    "    \n",
    "    # Get results & append algorithm name\n",
    "    tmp = pd.DataFrame.from_dict(results).mean(axis=0)\n",
    "    tmp = tmp.append(pd.Series([str(algorithm).split(' ')[0].split('.')[-1]], index=['Algorithm']))\n",
    "    benchmark.append(tmp)\n",
    "    \n",
    "pd.DataFrame(benchmark).set_index('Algorithm').sort_values('test_rmse')  "
   ]
  },
  {
   "cell_type": "markdown",
   "metadata": {},
   "source": [
    "#### Opuesto a lo que intuiamos, obtenemos un menor error utilizando los ratings que están normalizados en función al rating máximo del dataset en vez de utilizando los ratings normalizados a partir del máximo rating que había asignado cada usuario."
   ]
  },
  {
   "cell_type": "code",
   "execution_count": 20,
   "metadata": {},
   "outputs": [
    {
     "name": "stdout",
     "output_type": "stream",
     "text": [
      "Using ALS\n",
      "Estimating biases using als...\n",
      "Computing the msd similarity matrix...\n",
      "Done computing similarity matrix.\n",
      "RMSE: 0.0839\n"
     ]
    },
    {
     "data": {
      "text/plain": [
       "0.08394844673667586"
      ]
     },
     "execution_count": 20,
     "metadata": {},
     "output_type": "execute_result"
    }
   ],
   "source": [
    "print('Using ALS')\n",
    "bsl_options = {'method': 'als',\n",
    "               'n_epochs': 5,\n",
    "               'reg_u': 12,\n",
    "               'reg_i': 10\n",
    "               }\n",
    "\n",
    "trainset, testset = train_test_split(data, test_size=0.20)\n",
    "algo = KNNBaseline(bsl_options=bsl_options)\n",
    "predictions = algo.fit(trainset).test(testset)\n",
    "accuracy.rmse(predictions)"
   ]
  },
  {
   "cell_type": "code",
   "execution_count": 21,
   "metadata": {},
   "outputs": [],
   "source": [
    "def get_Iu(uid):\n",
    "    \"\"\" return the number of items rated by given user\n",
    "    args: \n",
    "      uid: the id of the user\n",
    "    returns: \n",
    "      the number of items rated by the user\n",
    "    \"\"\"\n",
    "    try:\n",
    "        return len(trainset.ur[trainset.to_inner_uid(uid)])\n",
    "    except ValueError: # user was not part of the trainset\n",
    "        return 0\n",
    "    \n",
    "def get_Ui(iid):\n",
    "    \"\"\" return number of users that have rated given item\n",
    "    args:\n",
    "      iid: the raw id of the item\n",
    "    returns:\n",
    "      the number of users that have rated the item.\n",
    "    \"\"\"\n",
    "    try: \n",
    "        return len(trainset.ir[trainset.to_inner_iid(iid)])\n",
    "    except ValueError:\n",
    "        return 0\n",
    "    \n",
    "df = pd.DataFrame(predictions, columns=['uid', 'iid', 'rui', 'est', 'details'])\n",
    "df['number_items_rated_by_user'] = df.uid.apply(get_Iu)\n",
    "df['number_users_who_rated_item'] = df.iid.apply(get_Ui)\n",
    "df['err'] = abs(df.est - df.rui)\n",
    "best_predictions = df.sort_values(by='err')[:10]\n",
    "worst_predictions = df.sort_values(by='err')[-20:]"
   ]
  },
  {
   "cell_type": "code",
   "execution_count": 22,
   "metadata": {},
   "outputs": [
    {
     "data": {
      "text/html": [
       "<div>\n",
       "<style scoped>\n",
       "    .dataframe tbody tr th:only-of-type {\n",
       "        vertical-align: middle;\n",
       "    }\n",
       "\n",
       "    .dataframe tbody tr th {\n",
       "        vertical-align: top;\n",
       "    }\n",
       "\n",
       "    .dataframe thead th {\n",
       "        text-align: right;\n",
       "    }\n",
       "</style>\n",
       "<table border=\"1\" class=\"dataframe\">\n",
       "  <thead>\n",
       "    <tr style=\"text-align: right;\">\n",
       "      <th></th>\n",
       "      <th>uid</th>\n",
       "      <th>iid</th>\n",
       "      <th>rui</th>\n",
       "      <th>est</th>\n",
       "      <th>details</th>\n",
       "      <th>number_items_rated_by_user</th>\n",
       "      <th>number_users_who_rated_item</th>\n",
       "      <th>err</th>\n",
       "    </tr>\n",
       "  </thead>\n",
       "  <tbody>\n",
       "    <tr>\n",
       "      <th>6926</th>\n",
       "      <td>1310</td>\n",
       "      <td>2276</td>\n",
       "      <td>0.000028</td>\n",
       "      <td>0.000028</td>\n",
       "      <td>{'actual_k': 4, 'was_impossible': False}</td>\n",
       "      <td>43</td>\n",
       "      <td>6</td>\n",
       "      <td>0.0</td>\n",
       "    </tr>\n",
       "    <tr>\n",
       "      <th>16707</th>\n",
       "      <td>1408</td>\n",
       "      <td>6621</td>\n",
       "      <td>0.000028</td>\n",
       "      <td>0.000028</td>\n",
       "      <td>{'actual_k': 4, 'was_impossible': False}</td>\n",
       "      <td>41</td>\n",
       "      <td>4</td>\n",
       "      <td>0.0</td>\n",
       "    </tr>\n",
       "    <tr>\n",
       "      <th>5964</th>\n",
       "      <td>1014</td>\n",
       "      <td>1455</td>\n",
       "      <td>0.000028</td>\n",
       "      <td>0.000028</td>\n",
       "      <td>{'actual_k': 40, 'was_impossible': False}</td>\n",
       "      <td>19</td>\n",
       "      <td>51</td>\n",
       "      <td>0.0</td>\n",
       "    </tr>\n",
       "    <tr>\n",
       "      <th>798</th>\n",
       "      <td>1818</td>\n",
       "      <td>8312</td>\n",
       "      <td>0.000028</td>\n",
       "      <td>0.000028</td>\n",
       "      <td>{'actual_k': 4, 'was_impossible': False}</td>\n",
       "      <td>42</td>\n",
       "      <td>4</td>\n",
       "      <td>0.0</td>\n",
       "    </tr>\n",
       "    <tr>\n",
       "      <th>13866</th>\n",
       "      <td>1310</td>\n",
       "      <td>8152</td>\n",
       "      <td>0.000028</td>\n",
       "      <td>0.000028</td>\n",
       "      <td>{'actual_k': 1, 'was_impossible': False}</td>\n",
       "      <td>43</td>\n",
       "      <td>3</td>\n",
       "      <td>0.0</td>\n",
       "    </tr>\n",
       "    <tr>\n",
       "      <th>7675</th>\n",
       "      <td>768</td>\n",
       "      <td>8245</td>\n",
       "      <td>0.000028</td>\n",
       "      <td>0.000028</td>\n",
       "      <td>{'actual_k': 1, 'was_impossible': False}</td>\n",
       "      <td>37</td>\n",
       "      <td>1</td>\n",
       "      <td>0.0</td>\n",
       "    </tr>\n",
       "    <tr>\n",
       "      <th>948</th>\n",
       "      <td>1262</td>\n",
       "      <td>1698</td>\n",
       "      <td>0.000028</td>\n",
       "      <td>0.000028</td>\n",
       "      <td>{'actual_k': 4, 'was_impossible': False}</td>\n",
       "      <td>18</td>\n",
       "      <td>6</td>\n",
       "      <td>0.0</td>\n",
       "    </tr>\n",
       "    <tr>\n",
       "      <th>14956</th>\n",
       "      <td>1773</td>\n",
       "      <td>405</td>\n",
       "      <td>0.000028</td>\n",
       "      <td>0.000028</td>\n",
       "      <td>{'actual_k': 16, 'was_impossible': False}</td>\n",
       "      <td>9</td>\n",
       "      <td>31</td>\n",
       "      <td>0.0</td>\n",
       "    </tr>\n",
       "    <tr>\n",
       "      <th>15249</th>\n",
       "      <td>1859</td>\n",
       "      <td>1046</td>\n",
       "      <td>0.000028</td>\n",
       "      <td>0.000028</td>\n",
       "      <td>{'actual_k': 6, 'was_impossible': False}</td>\n",
       "      <td>27</td>\n",
       "      <td>26</td>\n",
       "      <td>0.0</td>\n",
       "    </tr>\n",
       "    <tr>\n",
       "      <th>9473</th>\n",
       "      <td>1818</td>\n",
       "      <td>424</td>\n",
       "      <td>0.000028</td>\n",
       "      <td>0.000028</td>\n",
       "      <td>{'actual_k': 40, 'was_impossible': False}</td>\n",
       "      <td>42</td>\n",
       "      <td>147</td>\n",
       "      <td>0.0</td>\n",
       "    </tr>\n",
       "  </tbody>\n",
       "</table>\n",
       "</div>"
      ],
      "text/plain": [
       "        uid   iid       rui       est  \\\n",
       "6926   1310  2276  0.000028  0.000028   \n",
       "16707  1408  6621  0.000028  0.000028   \n",
       "5964   1014  1455  0.000028  0.000028   \n",
       "798    1818  8312  0.000028  0.000028   \n",
       "13866  1310  8152  0.000028  0.000028   \n",
       "7675    768  8245  0.000028  0.000028   \n",
       "948    1262  1698  0.000028  0.000028   \n",
       "14956  1773   405  0.000028  0.000028   \n",
       "15249  1859  1046  0.000028  0.000028   \n",
       "9473   1818   424  0.000028  0.000028   \n",
       "\n",
       "                                         details  number_items_rated_by_user  \\\n",
       "6926    {'actual_k': 4, 'was_impossible': False}                          43   \n",
       "16707   {'actual_k': 4, 'was_impossible': False}                          41   \n",
       "5964   {'actual_k': 40, 'was_impossible': False}                          19   \n",
       "798     {'actual_k': 4, 'was_impossible': False}                          42   \n",
       "13866   {'actual_k': 1, 'was_impossible': False}                          43   \n",
       "7675    {'actual_k': 1, 'was_impossible': False}                          37   \n",
       "948     {'actual_k': 4, 'was_impossible': False}                          18   \n",
       "14956  {'actual_k': 16, 'was_impossible': False}                           9   \n",
       "15249   {'actual_k': 6, 'was_impossible': False}                          27   \n",
       "9473   {'actual_k': 40, 'was_impossible': False}                          42   \n",
       "\n",
       "       number_users_who_rated_item  err  \n",
       "6926                             6  0.0  \n",
       "16707                            4  0.0  \n",
       "5964                            51  0.0  \n",
       "798                              4  0.0  \n",
       "13866                            3  0.0  \n",
       "7675                             1  0.0  \n",
       "948                              6  0.0  \n",
       "14956                           31  0.0  \n",
       "15249                           26  0.0  \n",
       "9473                           147  0.0  "
      ]
     },
     "execution_count": 22,
     "metadata": {},
     "output_type": "execute_result"
    }
   ],
   "source": [
    "best_predictions"
   ]
  },
  {
   "cell_type": "code",
   "execution_count": 23,
   "metadata": {
    "scrolled": false
   },
   "outputs": [
    {
     "data": {
      "text/html": [
       "<div>\n",
       "<style scoped>\n",
       "    .dataframe tbody tr th:only-of-type {\n",
       "        vertical-align: middle;\n",
       "    }\n",
       "\n",
       "    .dataframe tbody tr th {\n",
       "        vertical-align: top;\n",
       "    }\n",
       "\n",
       "    .dataframe thead th {\n",
       "        text-align: right;\n",
       "    }\n",
       "</style>\n",
       "<table border=\"1\" class=\"dataframe\">\n",
       "  <thead>\n",
       "    <tr style=\"text-align: right;\">\n",
       "      <th></th>\n",
       "      <th>uid</th>\n",
       "      <th>iid</th>\n",
       "      <th>rui</th>\n",
       "      <th>est</th>\n",
       "      <th>details</th>\n",
       "      <th>number_items_rated_by_user</th>\n",
       "      <th>number_users_who_rated_item</th>\n",
       "      <th>err</th>\n",
       "    </tr>\n",
       "  </thead>\n",
       "  <tbody>\n",
       "    <tr>\n",
       "      <th>3212</th>\n",
       "      <td>736</td>\n",
       "      <td>7759</td>\n",
       "      <td>0.905704</td>\n",
       "      <td>0.034546</td>\n",
       "      <td>{'actual_k': 2, 'was_impossible': False}</td>\n",
       "      <td>41</td>\n",
       "      <td>3</td>\n",
       "      <td>0.871158</td>\n",
       "    </tr>\n",
       "    <tr>\n",
       "      <th>14241</th>\n",
       "      <td>1307</td>\n",
       "      <td>89</td>\n",
       "      <td>0.973297</td>\n",
       "      <td>0.058464</td>\n",
       "      <td>{'was_impossible': False}</td>\n",
       "      <td>0</td>\n",
       "      <td>491</td>\n",
       "      <td>0.914833</td>\n",
       "    </tr>\n",
       "    <tr>\n",
       "      <th>17146</th>\n",
       "      <td>1178</td>\n",
       "      <td>344</td>\n",
       "      <td>0.941315</td>\n",
       "      <td>0.024635</td>\n",
       "      <td>{'actual_k': 40, 'was_impossible': False}</td>\n",
       "      <td>39</td>\n",
       "      <td>204</td>\n",
       "      <td>0.916681</td>\n",
       "    </tr>\n",
       "    <tr>\n",
       "      <th>4459</th>\n",
       "      <td>161</td>\n",
       "      <td>487</td>\n",
       "      <td>0.969101</td>\n",
       "      <td>0.051945</td>\n",
       "      <td>{'actual_k': 20, 'was_impossible': False}</td>\n",
       "      <td>38</td>\n",
       "      <td>33</td>\n",
       "      <td>0.917156</td>\n",
       "    </tr>\n",
       "    <tr>\n",
       "      <th>6063</th>\n",
       "      <td>377</td>\n",
       "      <td>917</td>\n",
       "      <td>1.022178</td>\n",
       "      <td>0.075839</td>\n",
       "      <td>{'actual_k': 40, 'was_impossible': False}</td>\n",
       "      <td>42</td>\n",
       "      <td>142</td>\n",
       "      <td>0.946338</td>\n",
       "    </tr>\n",
       "    <tr>\n",
       "      <th>13511</th>\n",
       "      <td>385</td>\n",
       "      <td>344</td>\n",
       "      <td>1.128161</td>\n",
       "      <td>0.096406</td>\n",
       "      <td>{'actual_k': 40, 'was_impossible': False}</td>\n",
       "      <td>42</td>\n",
       "      <td>204</td>\n",
       "      <td>1.031754</td>\n",
       "    </tr>\n",
       "    <tr>\n",
       "      <th>15998</th>\n",
       "      <td>1687</td>\n",
       "      <td>288</td>\n",
       "      <td>1.048206</td>\n",
       "      <td>0.011842</td>\n",
       "      <td>{'actual_k': 40, 'was_impossible': False}</td>\n",
       "      <td>38</td>\n",
       "      <td>391</td>\n",
       "      <td>1.036363</td>\n",
       "    </tr>\n",
       "    <tr>\n",
       "      <th>8646</th>\n",
       "      <td>684</td>\n",
       "      <td>289</td>\n",
       "      <td>1.414496</td>\n",
       "      <td>0.205586</td>\n",
       "      <td>{'actual_k': 40, 'was_impossible': False}</td>\n",
       "      <td>40</td>\n",
       "      <td>414</td>\n",
       "      <td>1.208910</td>\n",
       "    </tr>\n",
       "    <tr>\n",
       "      <th>11140</th>\n",
       "      <td>760</td>\n",
       "      <td>932</td>\n",
       "      <td>1.263687</td>\n",
       "      <td>0.043614</td>\n",
       "      <td>{'actual_k': 18, 'was_impossible': False}</td>\n",
       "      <td>38</td>\n",
       "      <td>21</td>\n",
       "      <td>1.220074</td>\n",
       "    </tr>\n",
       "    <tr>\n",
       "      <th>12456</th>\n",
       "      <td>616</td>\n",
       "      <td>707</td>\n",
       "      <td>1.383847</td>\n",
       "      <td>0.016538</td>\n",
       "      <td>{'actual_k': 40, 'was_impossible': False}</td>\n",
       "      <td>37</td>\n",
       "      <td>179</td>\n",
       "      <td>1.367309</td>\n",
       "    </tr>\n",
       "    <tr>\n",
       "      <th>18032</th>\n",
       "      <td>1431</td>\n",
       "      <td>2044</td>\n",
       "      <td>1.725130</td>\n",
       "      <td>0.134977</td>\n",
       "      <td>{'actual_k': 12, 'was_impossible': False}</td>\n",
       "      <td>39</td>\n",
       "      <td>17</td>\n",
       "      <td>1.590153</td>\n",
       "    </tr>\n",
       "    <tr>\n",
       "      <th>1067</th>\n",
       "      <td>318</td>\n",
       "      <td>701</td>\n",
       "      <td>1.725244</td>\n",
       "      <td>0.059148</td>\n",
       "      <td>{'actual_k': 40, 'was_impossible': False}</td>\n",
       "      <td>39</td>\n",
       "      <td>251</td>\n",
       "      <td>1.666096</td>\n",
       "    </tr>\n",
       "    <tr>\n",
       "      <th>12323</th>\n",
       "      <td>1418</td>\n",
       "      <td>89</td>\n",
       "      <td>2.138203</td>\n",
       "      <td>0.165637</td>\n",
       "      <td>{'actual_k': 40, 'was_impossible': False}</td>\n",
       "      <td>42</td>\n",
       "      <td>491</td>\n",
       "      <td>1.972566</td>\n",
       "    </tr>\n",
       "    <tr>\n",
       "      <th>14735</th>\n",
       "      <td>298</td>\n",
       "      <td>903</td>\n",
       "      <td>2.091619</td>\n",
       "      <td>0.017751</td>\n",
       "      <td>{'actual_k': 40, 'was_impossible': False}</td>\n",
       "      <td>37</td>\n",
       "      <td>151</td>\n",
       "      <td>2.073869</td>\n",
       "    </tr>\n",
       "    <tr>\n",
       "      <th>17532</th>\n",
       "      <td>800</td>\n",
       "      <td>707</td>\n",
       "      <td>2.351899</td>\n",
       "      <td>0.018704</td>\n",
       "      <td>{'actual_k': 40, 'was_impossible': False}</td>\n",
       "      <td>37</td>\n",
       "      <td>179</td>\n",
       "      <td>2.333195</td>\n",
       "    </tr>\n",
       "    <tr>\n",
       "      <th>10504</th>\n",
       "      <td>446</td>\n",
       "      <td>72</td>\n",
       "      <td>3.034636</td>\n",
       "      <td>0.072415</td>\n",
       "      <td>{'actual_k': 40, 'was_impossible': False}</td>\n",
       "      <td>41</td>\n",
       "      <td>229</td>\n",
       "      <td>2.962221</td>\n",
       "    </tr>\n",
       "    <tr>\n",
       "      <th>16942</th>\n",
       "      <td>514</td>\n",
       "      <td>461</td>\n",
       "      <td>3.115668</td>\n",
       "      <td>0.128215</td>\n",
       "      <td>{'actual_k': 40, 'was_impossible': False}</td>\n",
       "      <td>37</td>\n",
       "      <td>222</td>\n",
       "      <td>2.987453</td>\n",
       "    </tr>\n",
       "    <tr>\n",
       "      <th>14622</th>\n",
       "      <td>2069</td>\n",
       "      <td>486</td>\n",
       "      <td>3.104185</td>\n",
       "      <td>0.010662</td>\n",
       "      <td>{'actual_k': 40, 'was_impossible': False}</td>\n",
       "      <td>38</td>\n",
       "      <td>174</td>\n",
       "      <td>3.093524</td>\n",
       "    </tr>\n",
       "    <tr>\n",
       "      <th>6604</th>\n",
       "      <td>442</td>\n",
       "      <td>187</td>\n",
       "      <td>3.175776</td>\n",
       "      <td>0.018546</td>\n",
       "      <td>{'actual_k': 40, 'was_impossible': False}</td>\n",
       "      <td>41</td>\n",
       "      <td>82</td>\n",
       "      <td>3.157230</td>\n",
       "    </tr>\n",
       "    <tr>\n",
       "      <th>7784</th>\n",
       "      <td>1086</td>\n",
       "      <td>679</td>\n",
       "      <td>4.703798</td>\n",
       "      <td>0.021989</td>\n",
       "      <td>{'actual_k': 40, 'was_impossible': False}</td>\n",
       "      <td>36</td>\n",
       "      <td>188</td>\n",
       "      <td>4.681809</td>\n",
       "    </tr>\n",
       "  </tbody>\n",
       "</table>\n",
       "</div>"
      ],
      "text/plain": [
       "        uid   iid       rui       est  \\\n",
       "3212    736  7759  0.905704  0.034546   \n",
       "14241  1307    89  0.973297  0.058464   \n",
       "17146  1178   344  0.941315  0.024635   \n",
       "4459    161   487  0.969101  0.051945   \n",
       "6063    377   917  1.022178  0.075839   \n",
       "13511   385   344  1.128161  0.096406   \n",
       "15998  1687   288  1.048206  0.011842   \n",
       "8646    684   289  1.414496  0.205586   \n",
       "11140   760   932  1.263687  0.043614   \n",
       "12456   616   707  1.383847  0.016538   \n",
       "18032  1431  2044  1.725130  0.134977   \n",
       "1067    318   701  1.725244  0.059148   \n",
       "12323  1418    89  2.138203  0.165637   \n",
       "14735   298   903  2.091619  0.017751   \n",
       "17532   800   707  2.351899  0.018704   \n",
       "10504   446    72  3.034636  0.072415   \n",
       "16942   514   461  3.115668  0.128215   \n",
       "14622  2069   486  3.104185  0.010662   \n",
       "6604    442   187  3.175776  0.018546   \n",
       "7784   1086   679  4.703798  0.021989   \n",
       "\n",
       "                                         details  number_items_rated_by_user  \\\n",
       "3212    {'actual_k': 2, 'was_impossible': False}                          41   \n",
       "14241                  {'was_impossible': False}                           0   \n",
       "17146  {'actual_k': 40, 'was_impossible': False}                          39   \n",
       "4459   {'actual_k': 20, 'was_impossible': False}                          38   \n",
       "6063   {'actual_k': 40, 'was_impossible': False}                          42   \n",
       "13511  {'actual_k': 40, 'was_impossible': False}                          42   \n",
       "15998  {'actual_k': 40, 'was_impossible': False}                          38   \n",
       "8646   {'actual_k': 40, 'was_impossible': False}                          40   \n",
       "11140  {'actual_k': 18, 'was_impossible': False}                          38   \n",
       "12456  {'actual_k': 40, 'was_impossible': False}                          37   \n",
       "18032  {'actual_k': 12, 'was_impossible': False}                          39   \n",
       "1067   {'actual_k': 40, 'was_impossible': False}                          39   \n",
       "12323  {'actual_k': 40, 'was_impossible': False}                          42   \n",
       "14735  {'actual_k': 40, 'was_impossible': False}                          37   \n",
       "17532  {'actual_k': 40, 'was_impossible': False}                          37   \n",
       "10504  {'actual_k': 40, 'was_impossible': False}                          41   \n",
       "16942  {'actual_k': 40, 'was_impossible': False}                          37   \n",
       "14622  {'actual_k': 40, 'was_impossible': False}                          38   \n",
       "6604   {'actual_k': 40, 'was_impossible': False}                          41   \n",
       "7784   {'actual_k': 40, 'was_impossible': False}                          36   \n",
       "\n",
       "       number_users_who_rated_item       err  \n",
       "3212                             3  0.871158  \n",
       "14241                          491  0.914833  \n",
       "17146                          204  0.916681  \n",
       "4459                            33  0.917156  \n",
       "6063                           142  0.946338  \n",
       "13511                          204  1.031754  \n",
       "15998                          391  1.036363  \n",
       "8646                           414  1.208910  \n",
       "11140                           21  1.220074  \n",
       "12456                          179  1.367309  \n",
       "18032                           17  1.590153  \n",
       "1067                           251  1.666096  \n",
       "12323                          491  1.972566  \n",
       "14735                          151  2.073869  \n",
       "17532                          179  2.333195  \n",
       "10504                          229  2.962221  \n",
       "16942                          222  2.987453  \n",
       "14622                          174  3.093524  \n",
       "6604                            82  3.157230  \n",
       "7784                           188  4.681809  "
      ]
     },
     "execution_count": 23,
     "metadata": {},
     "output_type": "execute_result"
    }
   ],
   "source": [
    "worst_predictions"
   ]
  },
  {
   "cell_type": "markdown",
   "metadata": {},
   "source": [
    "### 3. Sistema de recomendación\n",
    "A partir del mejor modelo de recomendación que haya surgido del caso anterior, y utilizando los datos del archivo artist.dat, armar un sistema de recomendación sencillo que, dado un nombre de un artista, devuelva el top 10 de artistas más similares. La idea es que el sistema tome el nombre de un artista y devuelva el nombre de otros artistas (no simplemente tomar y devolver IDs)."
   ]
  },
  {
   "cell_type": "code",
   "execution_count": 24,
   "metadata": {},
   "outputs": [],
   "source": [
    "def artist_id_to_name(artist_id):\n",
    "    return artist_data.loc[artist_data['id'] == artist_id].iloc[0]['name']\n",
    "    \n",
    "def artist_name_to_id(artist_name):\n",
    "    return artist_data.loc[artist_data['name'] == artist_name].iloc[0]['id']\n",
    "\n",
    "\n",
    "def obtain_artist_neighbors(artist_name):\n",
    "    print(\"Similar artists to \",artist_name,\": \")\n",
    "    artist_id = artist_name_to_id(artist_name)\n",
    "    neighbors_ids = algo.get_neighbors(artist_id, k=10)\n",
    "    neighbors_idss = map(artist_id_to_name, neighbors_ids)\n",
    "    return [artist_id_to_name(item) for item in neighbors_ids]"
   ]
  },
  {
   "cell_type": "code",
   "execution_count": 25,
   "metadata": {},
   "outputs": [
    {
     "name": "stdout",
     "output_type": "stream",
     "text": [
      "Similar artists to  Moonspell : \n",
      "['Tina Turner', 'Kelly Osbourne', 'MFSB', 'Burial', 'Beneath the Massacre', 'Franz Ferdinand', 'I Killed the Prom Queen', 'Emilie Simon', 'Trans-Siberian Orchestra', 'Marisa Monte'] \n",
      "\n",
      "Similar artists to  The Offspring : \n",
      "['Eleftheria Eleftheriou', 'Negativ', 'Daft Punk', 'The Tallest Man on Earth', 'The Psychedelic Furs', 'Get Scared', 'Annihilator', 'Siouxsie and the Banshees', 'It Prevails', 'A Silver Mt. Zion'] \n",
      "\n",
      "Similar artists to  Green Day : \n",
      "['Headscan', 'Erasure', 'Black Lab', 'Ne-Yo', 'Information Society', 'Agonoize', 'Goldfrapp', 'Babyshambles', 'xotox', 'Infernal'] \n",
      "\n",
      "Similar artists to  Nightwish : \n",
      "['Jared Padalecki', 'Schiller', 'It Prevails', 'Enya', 'Groove Armada', 'Evridiki', 'Sugababes', 'Jag Panzer', 'Fresno', 'Donna Summer'] \n",
      "\n"
     ]
    }
   ],
   "source": [
    "print(obtain_artist_neighbors('Moonspell'), \"\\n\")\n",
    "print(obtain_artist_neighbors('The Offspring'), \"\\n\")\n",
    "print(obtain_artist_neighbors('Green Day'), \"\\n\")\n",
    "print(obtain_artist_neighbors('Nightwish'), \"\\n\")"
   ]
  },
  {
   "cell_type": "code",
   "execution_count": null,
   "metadata": {},
   "outputs": [],
   "source": []
  },
  {
   "cell_type": "markdown",
   "metadata": {},
   "source": [
    "### Ejercicio 2b - Sistemas de Recomendación Avanzados\n",
    "\n",
    "Este ejercicio lo deberán completar quienes hayan realizado ambas partes de la materia pues requiere de los conocimientos adquiridos en las segundas dos clases. En este caso, utilizarán no sólo la información de la matriz de usuario-contenido, sino que deberán hacer uso de otra información para poder lidiar con el problema del \"Cold Start\", i.e. que es lo que ocurre cuando tengo nuevos usuarios o artistas. Tener en cuenta los siguientes pasos:\n",
    "1. **Evaluación sobre cold start**: Para evaluar como funciona el sistema con el problema del \"cold start\", deberán tomar ciertos artistas y \"dejarlos fuera\", i.e. remover cualquier participación del artista en el sistema. Esos serán los artistas que se evaluarán como \"cold start\".\n",
    "2. **Vectores de contenido**: Deberán generar vectores de contenido para los artistas, basados en los tags que los usuarios les dan (ver los archivos `user_taggedartists.dat` y `tags.dat`).\n",
    "3. **Sistema de recomendación**: Deberán crear un sistema de recomendación que tomará como parámetros la información del artista (i.e. nombre y tags). Con dicha información, deberán disponer de un sistema de recomendación híbrido (utilizando cualquiera de las técnicas vistas en clase) que devuelva artistas similares. El sistema de recomendación deberá utilizar toda la información proporcionada para dar una mejor respuesta.\n",
    "4. **Evaluación del sistema**: Deberán evaluar \"a mano\" el sistema sobre artistas que conozca y artistas que no conozca (i.e. que fueron dejados afuera), y hacer un análisis de lo que el sistema está devolviendo.\n"
   ]
  },
  {
   "cell_type": "code",
   "execution_count": null,
   "metadata": {},
   "outputs": [],
   "source": []
  }
 ],
 "metadata": {
  "kernelspec": {
   "display_name": "Python 3",
   "language": "python",
   "name": "python3"
  },
  "language_info": {
   "codemirror_mode": {
    "name": "ipython",
    "version": 3
   },
   "file_extension": ".py",
   "mimetype": "text/x-python",
   "name": "python",
   "nbconvert_exporter": "python",
   "pygments_lexer": "ipython3",
   "version": "3.7.9"
  },
  "rise": {
   "scroll": true
  }
 },
 "nbformat": 4,
 "nbformat_minor": 2
}
